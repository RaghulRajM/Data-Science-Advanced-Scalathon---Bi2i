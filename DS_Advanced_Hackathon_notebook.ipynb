{
  "cells": [
    {
      "cell_type": "markdown",
      "metadata": {
        "id": "view-in-github",
        "colab_type": "text"
      },
      "source": [
        "<a href=\"https://colab.research.google.com/github/RaghulRajM/Data-Science-Advanced-Scalathon---Bi2i/blob/main/DS_Advanced_Hackathon_notebook.ipynb\" target=\"_parent\"><img src=\"https://colab.research.google.com/assets/colab-badge.svg\" alt=\"Open In Colab\"/></a>"
      ]
    },
    {
      "cell_type": "markdown",
      "metadata": {
        "id": "wh5d0VAQ3sT4"
      },
      "source": [
        "## XYZ is an American bookseller. It is a Fortune 1000 company and the bookseller with the largest number of retail outlets in the United States. It also sells books through various ecommerce channels. They sell around 3684 unique books in their different stores among which there are  4 top selling books on the basis of customer reviews. So XYZ has approached Bridgei2i Analytics Solutions to help them plan their growth strategy."
      ],
      "id": "wh5d0VAQ3sT4"
    },
    {
      "cell_type": "markdown",
      "metadata": {
        "id": "FZ0ar4Py3sT6"
      },
      "source": [
        "### Importing the libraries"
      ],
      "id": "FZ0ar4Py3sT6"
    },
    {
      "cell_type": "code",
      "execution_count": null,
      "metadata": {
        "id": "D4W7Upsg3sT6"
      },
      "outputs": [],
      "source": [
        "import pandas as pd\n",
        "import nltk\n",
        "from textblob import TextBlob\n",
        "from sklearn.tree import DecisionTreeClassifier\n",
        "import numpy as np\n",
        "from sklearn import tree\n",
        "from sklearn.tree import export_text\n",
        "import graphviz\n",
        "from sklearn.cluster import KMeans\n",
        "from statsmodels.tsa.statespace.sarimax import SARIMAX\n",
        "import matplotlib.pyplot as plt\n",
        "from statsmodels.tsa.seasonal import seasonal_decompose\n",
        "from pmdarima.model_selection import train_test_split\n",
        "import pmdarima as pm"
      ],
      "id": "D4W7Upsg3sT6"
    },
    {
      "cell_type": "markdown",
      "metadata": {
        "id": "sQMCP5Rb3sT7"
      },
      "source": [
        "### 1. XYZ wants to understand which books have most positive reviews among the whole set (They are expecting ranking for the top 4 books)"
      ],
      "id": "sQMCP5Rb3sT7"
    },
    {
      "cell_type": "code",
      "execution_count": null,
      "metadata": {
        "id": "Rg09xmr83sT7"
      },
      "outputs": [],
      "source": [
        "reviews=pd.read_excel('Reviews.xlsx')"
      ],
      "id": "Rg09xmr83sT7"
    },
    {
      "cell_type": "code",
      "execution_count": null,
      "metadata": {
        "id": "6LwsoGlE3sT8",
        "outputId": "1d020cbb-ed62-4bc1-a1fa-01e66227f6ef"
      },
      "outputs": [
        {
          "data": {
            "text/html": [
              "<div>\n",
              "<style scoped>\n",
              "    .dataframe tbody tr th:only-of-type {\n",
              "        vertical-align: middle;\n",
              "    }\n",
              "\n",
              "    .dataframe tbody tr th {\n",
              "        vertical-align: top;\n",
              "    }\n",
              "\n",
              "    .dataframe thead th {\n",
              "        text-align: right;\n",
              "    }\n",
              "</style>\n",
              "<table border=\"1\" class=\"dataframe\">\n",
              "  <thead>\n",
              "    <tr style=\"text-align: right;\">\n",
              "      <th></th>\n",
              "      <th>Comment</th>\n",
              "      <th>BookCode</th>\n",
              "    </tr>\n",
              "  </thead>\n",
              "  <tbody>\n",
              "    <tr>\n",
              "      <th>0</th>\n",
              "      <td>This is a self-published book, and if you want...</td>\n",
              "      <td>52979</td>\n",
              "    </tr>\n",
              "    <tr>\n",
              "      <th>1</th>\n",
              "      <td>I was a dissapointed to see errors on the back...</td>\n",
              "      <td>22722</td>\n",
              "    </tr>\n",
              "    <tr>\n",
              "      <th>2</th>\n",
              "      <td>A complete waste of time. Typographical errors...</td>\n",
              "      <td>52720</td>\n",
              "    </tr>\n",
              "    <tr>\n",
              "      <th>3</th>\n",
              "      <td>I feel I have to write to keep others from was...</td>\n",
              "      <td>32722</td>\n",
              "    </tr>\n",
              "    <tr>\n",
              "      <th>4</th>\n",
              "      <td>Excellent stockings for long shifts on your fe...</td>\n",
              "      <td>84987</td>\n",
              "    </tr>\n",
              "  </tbody>\n",
              "</table>\n",
              "</div>"
            ],
            "text/plain": [
              "                                             Comment  BookCode\n",
              "0  This is a self-published book, and if you want...     52979\n",
              "1  I was a dissapointed to see errors on the back...     22722\n",
              "2  A complete waste of time. Typographical errors...     52720\n",
              "3  I feel I have to write to keep others from was...     32722\n",
              "4  Excellent stockings for long shifts on your fe...     84987"
            ]
          },
          "execution_count": 83,
          "metadata": {},
          "output_type": "execute_result"
        }
      ],
      "source": [
        "reviews.head()"
      ],
      "id": "6LwsoGlE3sT8"
    },
    {
      "cell_type": "code",
      "execution_count": null,
      "metadata": {
        "id": "rYCZ9M8b3sT8",
        "outputId": "7076f9d2-644d-41f4-a52e-a3fe603cb594"
      },
      "outputs": [
        {
          "data": {
            "text/plain": [
              "'This is a self-published book, and if you want to know why--read a few paragraphs! Those 5 star reviews must have been written by Ms. Haddon\\'s family and friends--or perhaps, by herself! I can\\'t imagine anyone reading the whole thing--I spent an evening with the book and a friend and we were in hysterics reading bits and pieces of it to one another. It is most definitely bad enough to be entered into some kind of a \"worst book\" contest. I can\\'t believe Amazon even sells this kind of thing. Maybe I can offer them my 8th grade term paper on \"To Kill a Mockingbird\"--a book I am quite sure Ms. Haddon never heard of. Anyway, unless you are in a mood to send a book to someone as a joke---stay far, far away from this one!'"
            ]
          },
          "execution_count": 84,
          "metadata": {},
          "output_type": "execute_result"
        }
      ],
      "source": [
        "reviews['Comment'][0]"
      ],
      "id": "rYCZ9M8b3sT8"
    },
    {
      "cell_type": "markdown",
      "metadata": {
        "id": "Ply-rRbM3sT9"
      },
      "source": [
        "#### Lemmatised  and tokenised only words"
      ],
      "id": "Ply-rRbM3sT9"
    },
    {
      "cell_type": "code",
      "execution_count": null,
      "metadata": {
        "id": "EUnjguln3sT9"
      },
      "outputs": [],
      "source": [
        "lemmatizer = WordNetLemmatizer()\n",
        "reviews['Comment'] = reviews['Comment'].apply(lambda y:  ' '.join([(lemmatizer.lemmatize(i)) for i in y.split(\" \")]) if type(y)==str else y)"
      ],
      "id": "EUnjguln3sT9"
    },
    {
      "cell_type": "code",
      "execution_count": null,
      "metadata": {
        "id": "G2gPHBj73sT9",
        "outputId": "de38dd00-ef56-4be1-806b-652f263f9512"
      },
      "outputs": [
        {
          "data": {
            "text/plain": [
              "'This is a self-published book, and if you want to know why--read a few paragraphs! Those 5 star review must have been written by Ms. Haddon\\'s family and friends--or perhaps, by herself! I can\\'t imagine anyone reading the whole thing--I spent an evening with the book and a friend and we were in hysteric reading bit and piece of it to one another. It is most definitely bad enough to be entered into some kind of a \"worst book\" contest. I can\\'t believe Amazon even sell this kind of thing. Maybe I can offer them my 8th grade term paper on \"To Kill a Mockingbird\"--a book I am quite sure Ms. Haddon never heard of. Anyway, unless you are in a mood to send a book to someone a a joke---stay far, far away from this one!'"
            ]
          },
          "execution_count": 86,
          "metadata": {},
          "output_type": "execute_result"
        }
      ],
      "source": [
        "reviews['Comment'][0]"
      ],
      "id": "G2gPHBj73sT9"
    },
    {
      "cell_type": "markdown",
      "metadata": {
        "id": "AgcrUAqQ3sT-"
      },
      "source": [
        "#### Sentiment analysis using textblob"
      ],
      "id": "AgcrUAqQ3sT-"
    },
    {
      "cell_type": "code",
      "execution_count": null,
      "metadata": {
        "id": "Zx51gQyT3sT-",
        "outputId": "734ace46-b562-4577-99fc-2f2465bdf669"
      },
      "outputs": [
        {
          "data": {
            "text/html": [
              "<div>\n",
              "<style scoped>\n",
              "    .dataframe tbody tr th:only-of-type {\n",
              "        vertical-align: middle;\n",
              "    }\n",
              "\n",
              "    .dataframe tbody tr th {\n",
              "        vertical-align: top;\n",
              "    }\n",
              "\n",
              "    .dataframe thead th {\n",
              "        text-align: right;\n",
              "    }\n",
              "</style>\n",
              "<table border=\"1\" class=\"dataframe\">\n",
              "  <thead>\n",
              "    <tr style=\"text-align: right;\">\n",
              "      <th></th>\n",
              "      <th>BookCode</th>\n",
              "      <th>scores</th>\n",
              "    </tr>\n",
              "  </thead>\n",
              "  <tbody>\n",
              "    <tr>\n",
              "      <th>2</th>\n",
              "      <td>22979</td>\n",
              "      <td>8316</td>\n",
              "    </tr>\n",
              "    <tr>\n",
              "      <th>15</th>\n",
              "      <td>84987</td>\n",
              "      <td>8309</td>\n",
              "    </tr>\n",
              "    <tr>\n",
              "      <th>1</th>\n",
              "      <td>22722</td>\n",
              "      <td>8279</td>\n",
              "    </tr>\n",
              "    <tr>\n",
              "      <th>0</th>\n",
              "      <td>22720</td>\n",
              "      <td>8245</td>\n",
              "    </tr>\n",
              "    <tr>\n",
              "      <th>11</th>\n",
              "      <td>52979</td>\n",
              "      <td>2186</td>\n",
              "    </tr>\n",
              "    <tr>\n",
              "      <th>19</th>\n",
              "      <td>124987</td>\n",
              "      <td>2183</td>\n",
              "    </tr>\n",
              "    <tr>\n",
              "      <th>3</th>\n",
              "      <td>32720</td>\n",
              "      <td>2169</td>\n",
              "    </tr>\n",
              "    <tr>\n",
              "      <th>4</th>\n",
              "      <td>32722</td>\n",
              "      <td>2158</td>\n",
              "    </tr>\n",
              "    <tr>\n",
              "      <th>9</th>\n",
              "      <td>52720</td>\n",
              "      <td>2113</td>\n",
              "    </tr>\n",
              "    <tr>\n",
              "      <th>7</th>\n",
              "      <td>42722</td>\n",
              "      <td>2098</td>\n",
              "    </tr>\n",
              "    <tr>\n",
              "      <th>17</th>\n",
              "      <td>104987</td>\n",
              "      <td>2097</td>\n",
              "    </tr>\n",
              "    <tr>\n",
              "      <th>12</th>\n",
              "      <td>62720</td>\n",
              "      <td>2090</td>\n",
              "    </tr>\n",
              "    <tr>\n",
              "      <th>5</th>\n",
              "      <td>32979</td>\n",
              "      <td>2085</td>\n",
              "    </tr>\n",
              "    <tr>\n",
              "      <th>13</th>\n",
              "      <td>62722</td>\n",
              "      <td>2084</td>\n",
              "    </tr>\n",
              "    <tr>\n",
              "      <th>16</th>\n",
              "      <td>94987</td>\n",
              "      <td>2078</td>\n",
              "    </tr>\n",
              "    <tr>\n",
              "      <th>14</th>\n",
              "      <td>62979</td>\n",
              "      <td>2077</td>\n",
              "    </tr>\n",
              "    <tr>\n",
              "      <th>18</th>\n",
              "      <td>114987</td>\n",
              "      <td>2076</td>\n",
              "    </tr>\n",
              "    <tr>\n",
              "      <th>8</th>\n",
              "      <td>42979</td>\n",
              "      <td>2071</td>\n",
              "    </tr>\n",
              "    <tr>\n",
              "      <th>10</th>\n",
              "      <td>52722</td>\n",
              "      <td>2054</td>\n",
              "    </tr>\n",
              "    <tr>\n",
              "      <th>6</th>\n",
              "      <td>42720</td>\n",
              "      <td>2050</td>\n",
              "    </tr>\n",
              "  </tbody>\n",
              "</table>\n",
              "</div>"
            ],
            "text/plain": [
              "    BookCode  scores\n",
              "2      22979    8316\n",
              "15     84987    8309\n",
              "1      22722    8279\n",
              "0      22720    8245\n",
              "11     52979    2186\n",
              "19    124987    2183\n",
              "3      32720    2169\n",
              "4      32722    2158\n",
              "9      52720    2113\n",
              "7      42722    2098\n",
              "17    104987    2097\n",
              "12     62720    2090\n",
              "5      32979    2085\n",
              "13     62722    2084\n",
              "16     94987    2078\n",
              "14     62979    2077\n",
              "18    114987    2076\n",
              "8      42979    2071\n",
              "10     52722    2054\n",
              "6      42720    2050"
            ]
          },
          "execution_count": 87,
          "metadata": {},
          "output_type": "execute_result"
        }
      ],
      "source": [
        "nltk_tokenizer = nltk.tokenize.RegexpTokenizer('\\w+')\n",
        "def split(text):\n",
        "    sentences = text.split('. ')\n",
        "    tokenized_sentences = [nltk_tokenizer.tokenize(sent) for sent in sentences]\n",
        "    return tokenized_sentences\n",
        "\n",
        "\n",
        "def textblob(sentences):\n",
        "    for sentence in split(sentences):\n",
        "        sentence = \" \".join([ch for ch in sentence ])\n",
        "\n",
        "        if sentence=='':\n",
        "            return 0\n",
        "        else:\n",
        "            return TextBlob(sentence).sentiment[0]\n",
        "\n",
        "scores=[textblob(i) if type(i)==str else 0 for i in reviews['Comment'] ]\n",
        "reviews['scores']=scores\n",
        "reviews['scores'] = [1 if(i>0) else 0 for i in reviews['scores']]\n",
        "df=pd.DataFrame(reviews.groupby(['BookCode'])['scores'].sum())\n",
        "df.reset_index(inplace=True)\n",
        "df.sort_values(['scores'],ascending=False)"
      ],
      "id": "Zx51gQyT3sT-"
    },
    {
      "cell_type": "code",
      "execution_count": null,
      "metadata": {
        "scrolled": true,
        "id": "8f-TSGwv3sT-",
        "outputId": "19eb53a4-3450-422c-c1c0-310327949e6e"
      },
      "outputs": [
        {
          "data": {
            "text/html": [
              "<div>\n",
              "<style scoped>\n",
              "    .dataframe tbody tr th:only-of-type {\n",
              "        vertical-align: middle;\n",
              "    }\n",
              "\n",
              "    .dataframe tbody tr th {\n",
              "        vertical-align: top;\n",
              "    }\n",
              "\n",
              "    .dataframe thead th {\n",
              "        text-align: right;\n",
              "    }\n",
              "</style>\n",
              "<table border=\"1\" class=\"dataframe\">\n",
              "  <thead>\n",
              "    <tr style=\"text-align: right;\">\n",
              "      <th></th>\n",
              "      <th>BookCode</th>\n",
              "      <th>Count</th>\n",
              "    </tr>\n",
              "  </thead>\n",
              "  <tbody>\n",
              "    <tr>\n",
              "      <th>0</th>\n",
              "      <td>84987</td>\n",
              "      <td>11819</td>\n",
              "    </tr>\n",
              "    <tr>\n",
              "      <th>1</th>\n",
              "      <td>22722</td>\n",
              "      <td>11802</td>\n",
              "    </tr>\n",
              "    <tr>\n",
              "      <th>2</th>\n",
              "      <td>22979</td>\n",
              "      <td>11706</td>\n",
              "    </tr>\n",
              "    <tr>\n",
              "      <th>3</th>\n",
              "      <td>22720</td>\n",
              "      <td>11683</td>\n",
              "    </tr>\n",
              "    <tr>\n",
              "      <th>4</th>\n",
              "      <td>52979</td>\n",
              "      <td>4258</td>\n",
              "    </tr>\n",
              "    <tr>\n",
              "      <th>5</th>\n",
              "      <td>32720</td>\n",
              "      <td>4254</td>\n",
              "    </tr>\n",
              "    <tr>\n",
              "      <th>6</th>\n",
              "      <td>124987</td>\n",
              "      <td>4202</td>\n",
              "    </tr>\n",
              "    <tr>\n",
              "      <th>7</th>\n",
              "      <td>94987</td>\n",
              "      <td>4187</td>\n",
              "    </tr>\n",
              "    <tr>\n",
              "      <th>8</th>\n",
              "      <td>32722</td>\n",
              "      <td>4156</td>\n",
              "    </tr>\n",
              "    <tr>\n",
              "      <th>9</th>\n",
              "      <td>62722</td>\n",
              "      <td>4101</td>\n",
              "    </tr>\n",
              "    <tr>\n",
              "      <th>10</th>\n",
              "      <td>104987</td>\n",
              "      <td>4089</td>\n",
              "    </tr>\n",
              "    <tr>\n",
              "      <th>11</th>\n",
              "      <td>62979</td>\n",
              "      <td>4082</td>\n",
              "    </tr>\n",
              "    <tr>\n",
              "      <th>12</th>\n",
              "      <td>52720</td>\n",
              "      <td>4076</td>\n",
              "    </tr>\n",
              "    <tr>\n",
              "      <th>13</th>\n",
              "      <td>114987</td>\n",
              "      <td>4075</td>\n",
              "    </tr>\n",
              "    <tr>\n",
              "      <th>14</th>\n",
              "      <td>42979</td>\n",
              "      <td>4060</td>\n",
              "    </tr>\n",
              "    <tr>\n",
              "      <th>15</th>\n",
              "      <td>52722</td>\n",
              "      <td>4060</td>\n",
              "    </tr>\n",
              "    <tr>\n",
              "      <th>16</th>\n",
              "      <td>42722</td>\n",
              "      <td>4059</td>\n",
              "    </tr>\n",
              "    <tr>\n",
              "      <th>17</th>\n",
              "      <td>42720</td>\n",
              "      <td>4029</td>\n",
              "    </tr>\n",
              "    <tr>\n",
              "      <th>18</th>\n",
              "      <td>32979</td>\n",
              "      <td>4027</td>\n",
              "    </tr>\n",
              "    <tr>\n",
              "      <th>19</th>\n",
              "      <td>62720</td>\n",
              "      <td>4007</td>\n",
              "    </tr>\n",
              "  </tbody>\n",
              "</table>\n",
              "</div>"
            ],
            "text/plain": [
              "    BookCode  Count\n",
              "0      84987  11819\n",
              "1      22722  11802\n",
              "2      22979  11706\n",
              "3      22720  11683\n",
              "4      52979   4258\n",
              "5      32720   4254\n",
              "6     124987   4202\n",
              "7      94987   4187\n",
              "8      32722   4156\n",
              "9      62722   4101\n",
              "10    104987   4089\n",
              "11     62979   4082\n",
              "12     52720   4076\n",
              "13    114987   4075\n",
              "14     42979   4060\n",
              "15     52722   4060\n",
              "16     42722   4059\n",
              "17     42720   4029\n",
              "18     32979   4027\n",
              "19     62720   4007"
            ]
          },
          "execution_count": 88,
          "metadata": {},
          "output_type": "execute_result"
        }
      ],
      "source": [
        "new_df=reviews['BookCode'].value_counts().reset_index()\n",
        "new_df.columns=['BookCode','Count']\n",
        "new_df"
      ],
      "id": "8f-TSGwv3sT-"
    },
    {
      "cell_type": "markdown",
      "metadata": {
        "id": "WL6lvxD93sT-"
      },
      "source": [
        "#### We calculate the normalised score by divinding the score of each book by the count of reviews for that book, to get a normalised score."
      ],
      "id": "WL6lvxD93sT-"
    },
    {
      "cell_type": "code",
      "execution_count": null,
      "metadata": {
        "scrolled": true,
        "id": "m1LF98sk3sT-",
        "outputId": "6472e992-c127-4f0f-f4b6-415b35eae67a"
      },
      "outputs": [
        {
          "data": {
            "text/html": [
              "<div>\n",
              "<style scoped>\n",
              "    .dataframe tbody tr th:only-of-type {\n",
              "        vertical-align: middle;\n",
              "    }\n",
              "\n",
              "    .dataframe tbody tr th {\n",
              "        vertical-align: top;\n",
              "    }\n",
              "\n",
              "    .dataframe thead th {\n",
              "        text-align: right;\n",
              "    }\n",
              "</style>\n",
              "<table border=\"1\" class=\"dataframe\">\n",
              "  <thead>\n",
              "    <tr style=\"text-align: right;\">\n",
              "      <th></th>\n",
              "      <th>BookCode</th>\n",
              "      <th>scores</th>\n",
              "      <th>Count</th>\n",
              "      <th>normalised_score</th>\n",
              "    </tr>\n",
              "  </thead>\n",
              "  <tbody>\n",
              "    <tr>\n",
              "      <th>2</th>\n",
              "      <td>22979</td>\n",
              "      <td>8316</td>\n",
              "      <td>11706</td>\n",
              "      <td>0.710405</td>\n",
              "    </tr>\n",
              "    <tr>\n",
              "      <th>0</th>\n",
              "      <td>22720</td>\n",
              "      <td>8245</td>\n",
              "      <td>11683</td>\n",
              "      <td>0.705726</td>\n",
              "    </tr>\n",
              "    <tr>\n",
              "      <th>15</th>\n",
              "      <td>84987</td>\n",
              "      <td>8309</td>\n",
              "      <td>11819</td>\n",
              "      <td>0.703021</td>\n",
              "    </tr>\n",
              "    <tr>\n",
              "      <th>1</th>\n",
              "      <td>22722</td>\n",
              "      <td>8279</td>\n",
              "      <td>11802</td>\n",
              "      <td>0.701491</td>\n",
              "    </tr>\n",
              "    <tr>\n",
              "      <th>12</th>\n",
              "      <td>62720</td>\n",
              "      <td>2090</td>\n",
              "      <td>4007</td>\n",
              "      <td>0.521587</td>\n",
              "    </tr>\n",
              "    <tr>\n",
              "      <th>19</th>\n",
              "      <td>124987</td>\n",
              "      <td>2183</td>\n",
              "      <td>4202</td>\n",
              "      <td>0.519515</td>\n",
              "    </tr>\n",
              "    <tr>\n",
              "      <th>4</th>\n",
              "      <td>32722</td>\n",
              "      <td>2158</td>\n",
              "      <td>4156</td>\n",
              "      <td>0.519249</td>\n",
              "    </tr>\n",
              "    <tr>\n",
              "      <th>9</th>\n",
              "      <td>52720</td>\n",
              "      <td>2113</td>\n",
              "      <td>4076</td>\n",
              "      <td>0.518400</td>\n",
              "    </tr>\n",
              "    <tr>\n",
              "      <th>5</th>\n",
              "      <td>32979</td>\n",
              "      <td>2085</td>\n",
              "      <td>4027</td>\n",
              "      <td>0.517755</td>\n",
              "    </tr>\n",
              "    <tr>\n",
              "      <th>7</th>\n",
              "      <td>42722</td>\n",
              "      <td>2098</td>\n",
              "      <td>4059</td>\n",
              "      <td>0.516876</td>\n",
              "    </tr>\n",
              "    <tr>\n",
              "      <th>11</th>\n",
              "      <td>52979</td>\n",
              "      <td>2186</td>\n",
              "      <td>4258</td>\n",
              "      <td>0.513387</td>\n",
              "    </tr>\n",
              "    <tr>\n",
              "      <th>17</th>\n",
              "      <td>104987</td>\n",
              "      <td>2097</td>\n",
              "      <td>4089</td>\n",
              "      <td>0.512839</td>\n",
              "    </tr>\n",
              "    <tr>\n",
              "      <th>8</th>\n",
              "      <td>42979</td>\n",
              "      <td>2071</td>\n",
              "      <td>4060</td>\n",
              "      <td>0.510099</td>\n",
              "    </tr>\n",
              "    <tr>\n",
              "      <th>3</th>\n",
              "      <td>32720</td>\n",
              "      <td>2169</td>\n",
              "      <td>4254</td>\n",
              "      <td>0.509873</td>\n",
              "    </tr>\n",
              "    <tr>\n",
              "      <th>18</th>\n",
              "      <td>114987</td>\n",
              "      <td>2076</td>\n",
              "      <td>4075</td>\n",
              "      <td>0.509448</td>\n",
              "    </tr>\n",
              "    <tr>\n",
              "      <th>14</th>\n",
              "      <td>62979</td>\n",
              "      <td>2077</td>\n",
              "      <td>4082</td>\n",
              "      <td>0.508819</td>\n",
              "    </tr>\n",
              "    <tr>\n",
              "      <th>6</th>\n",
              "      <td>42720</td>\n",
              "      <td>2050</td>\n",
              "      <td>4029</td>\n",
              "      <td>0.508811</td>\n",
              "    </tr>\n",
              "    <tr>\n",
              "      <th>13</th>\n",
              "      <td>62722</td>\n",
              "      <td>2084</td>\n",
              "      <td>4101</td>\n",
              "      <td>0.508169</td>\n",
              "    </tr>\n",
              "    <tr>\n",
              "      <th>10</th>\n",
              "      <td>52722</td>\n",
              "      <td>2054</td>\n",
              "      <td>4060</td>\n",
              "      <td>0.505911</td>\n",
              "    </tr>\n",
              "    <tr>\n",
              "      <th>16</th>\n",
              "      <td>94987</td>\n",
              "      <td>2078</td>\n",
              "      <td>4187</td>\n",
              "      <td>0.496298</td>\n",
              "    </tr>\n",
              "  </tbody>\n",
              "</table>\n",
              "</div>"
            ],
            "text/plain": [
              "    BookCode  scores  Count  normalised_score\n",
              "2      22979    8316  11706          0.710405\n",
              "0      22720    8245  11683          0.705726\n",
              "15     84987    8309  11819          0.703021\n",
              "1      22722    8279  11802          0.701491\n",
              "12     62720    2090   4007          0.521587\n",
              "19    124987    2183   4202          0.519515\n",
              "4      32722    2158   4156          0.519249\n",
              "9      52720    2113   4076          0.518400\n",
              "5      32979    2085   4027          0.517755\n",
              "7      42722    2098   4059          0.516876\n",
              "11     52979    2186   4258          0.513387\n",
              "17    104987    2097   4089          0.512839\n",
              "8      42979    2071   4060          0.510099\n",
              "3      32720    2169   4254          0.509873\n",
              "18    114987    2076   4075          0.509448\n",
              "14     62979    2077   4082          0.508819\n",
              "6      42720    2050   4029          0.508811\n",
              "13     62722    2084   4101          0.508169\n",
              "10     52722    2054   4060          0.505911\n",
              "16     94987    2078   4187          0.496298"
            ]
          },
          "execution_count": 89,
          "metadata": {},
          "output_type": "execute_result"
        }
      ],
      "source": [
        "merge_df=df.merge(new_df,on=['BookCode'])\n",
        "merge_df['normalised_score']=merge_df['scores']/merge_df['Count']\n",
        "merge_df=merge_df.sort_values(['normalised_score'],ascending=False)\n",
        "merge_df"
      ],
      "id": "m1LF98sk3sT-"
    },
    {
      "cell_type": "code",
      "execution_count": null,
      "metadata": {
        "id": "XoLruAb63sT-",
        "outputId": "1e53f361-bf44-4a8a-c6b2-8557da1178f5"
      },
      "outputs": [
        {
          "data": {
            "text/html": [
              "<div>\n",
              "<style scoped>\n",
              "    .dataframe tbody tr th:only-of-type {\n",
              "        vertical-align: middle;\n",
              "    }\n",
              "\n",
              "    .dataframe tbody tr th {\n",
              "        vertical-align: top;\n",
              "    }\n",
              "\n",
              "    .dataframe thead th {\n",
              "        text-align: right;\n",
              "    }\n",
              "</style>\n",
              "<table border=\"1\" class=\"dataframe\">\n",
              "  <thead>\n",
              "    <tr style=\"text-align: right;\">\n",
              "      <th></th>\n",
              "      <th>Top 4 BookCode</th>\n",
              "    </tr>\n",
              "  </thead>\n",
              "  <tbody>\n",
              "    <tr>\n",
              "      <th>2</th>\n",
              "      <td>22979</td>\n",
              "    </tr>\n",
              "    <tr>\n",
              "      <th>0</th>\n",
              "      <td>22720</td>\n",
              "    </tr>\n",
              "    <tr>\n",
              "      <th>15</th>\n",
              "      <td>84987</td>\n",
              "    </tr>\n",
              "    <tr>\n",
              "      <th>1</th>\n",
              "      <td>22722</td>\n",
              "    </tr>\n",
              "  </tbody>\n",
              "</table>\n",
              "</div>"
            ],
            "text/plain": [
              "    Top 4 BookCode\n",
              "2            22979\n",
              "0            22720\n",
              "15           84987\n",
              "1            22722"
            ]
          },
          "execution_count": 90,
          "metadata": {},
          "output_type": "execute_result"
        }
      ],
      "source": [
        "books=merge_df['BookCode'][:4]\n",
        "top4books=pd.DataFrame(columns=['Top 4 BookCode'])\n",
        "top4books['Top 4 BookCode']=books\n",
        "top4books"
      ],
      "id": "XoLruAb63sT-"
    },
    {
      "cell_type": "markdown",
      "metadata": {
        "id": "fn5Uj3VF3sT-"
      },
      "source": [
        "#### Note: We observed that the top four books with the most positive reviews had the following bookcodes: '84987','22979','22720' and '22722'"
      ],
      "id": "fn5Uj3VF3sT-"
    },
    {
      "cell_type": "markdown",
      "metadata": {
        "id": "_w5h6NO63sT-"
      },
      "source": [
        "### 2. XYZ bookseller wants to plan demand for the top shelf books for the upcoming 2 months across all the 21 states (given in data) of US"
      ],
      "id": "_w5h6NO63sT-"
    },
    {
      "cell_type": "code",
      "execution_count": null,
      "metadata": {
        "id": "iRlqG-XF3sT-"
      },
      "outputs": [],
      "source": [
        "sales_train=pd.read_excel('Sales.xlsx',sheet_name='Train')\n",
        "sales_test=pd.read_excel('Sales.xlsx',sheet_name='Test')"
      ],
      "id": "iRlqG-XF3sT-"
    },
    {
      "cell_type": "code",
      "execution_count": null,
      "metadata": {
        "id": "vSYYb5n13sT-",
        "outputId": "e730d7f6-7a46-46b8-f592-667ff7ed6e6c"
      },
      "outputs": [
        {
          "data": {
            "text/html": [
              "<div>\n",
              "<style scoped>\n",
              "    .dataframe tbody tr th:only-of-type {\n",
              "        vertical-align: middle;\n",
              "    }\n",
              "\n",
              "    .dataframe tbody tr th {\n",
              "        vertical-align: top;\n",
              "    }\n",
              "\n",
              "    .dataframe thead th {\n",
              "        text-align: right;\n",
              "    }\n",
              "</style>\n",
              "<table border=\"1\" class=\"dataframe\">\n",
              "  <thead>\n",
              "    <tr style=\"text-align: right;\">\n",
              "      <th></th>\n",
              "      <th>Units Sold</th>\n",
              "      <th>Available Books in the shelf</th>\n",
              "      <th>Price</th>\n",
              "      <th>State</th>\n",
              "      <th>Time</th>\n",
              "      <th>Week</th>\n",
              "      <th>NewYear</th>\n",
              "      <th>MLK</th>\n",
              "      <th>Presidents</th>\n",
              "      <th>GoodFriday</th>\n",
              "      <th>Memorial</th>\n",
              "      <th>Independence</th>\n",
              "      <th>Labor</th>\n",
              "      <th>Thanksgiving</th>\n",
              "      <th>Christmas</th>\n",
              "      <th>BookCode</th>\n",
              "      <th>isHoliday</th>\n",
              "    </tr>\n",
              "  </thead>\n",
              "  <tbody>\n",
              "    <tr>\n",
              "      <th>0</th>\n",
              "      <td>6187.0</td>\n",
              "      <td>10146.68</td>\n",
              "      <td>14.474543</td>\n",
              "      <td>Arizona</td>\n",
              "      <td>Week End 01-06-19</td>\n",
              "      <td>2019-01-06</td>\n",
              "      <td>1</td>\n",
              "      <td>0</td>\n",
              "      <td>0</td>\n",
              "      <td>0</td>\n",
              "      <td>0</td>\n",
              "      <td>0</td>\n",
              "      <td>0</td>\n",
              "      <td>0</td>\n",
              "      <td>0</td>\n",
              "      <td>22722</td>\n",
              "      <td>1</td>\n",
              "    </tr>\n",
              "    <tr>\n",
              "      <th>1</th>\n",
              "      <td>9123.0</td>\n",
              "      <td>15144.18</td>\n",
              "      <td>14.174504</td>\n",
              "      <td>Arizona</td>\n",
              "      <td>Week End 01-07-18</td>\n",
              "      <td>2018-01-07</td>\n",
              "      <td>1</td>\n",
              "      <td>0</td>\n",
              "      <td>0</td>\n",
              "      <td>0</td>\n",
              "      <td>0</td>\n",
              "      <td>0</td>\n",
              "      <td>0</td>\n",
              "      <td>0</td>\n",
              "      <td>0</td>\n",
              "      <td>22722</td>\n",
              "      <td>1</td>\n",
              "    </tr>\n",
              "    <tr>\n",
              "      <th>2</th>\n",
              "      <td>6236.0</td>\n",
              "      <td>8356.24</td>\n",
              "      <td>14.150096</td>\n",
              "      <td>Arizona</td>\n",
              "      <td>Week End 01-13-19</td>\n",
              "      <td>2019-01-13</td>\n",
              "      <td>0</td>\n",
              "      <td>0</td>\n",
              "      <td>0</td>\n",
              "      <td>0</td>\n",
              "      <td>0</td>\n",
              "      <td>0</td>\n",
              "      <td>0</td>\n",
              "      <td>0</td>\n",
              "      <td>0</td>\n",
              "      <td>22722</td>\n",
              "      <td>0</td>\n",
              "    </tr>\n",
              "  </tbody>\n",
              "</table>\n",
              "</div>"
            ],
            "text/plain": [
              "   Units Sold  Available Books in the shelf      Price    State  \\\n",
              "0      6187.0                      10146.68  14.474543  Arizona   \n",
              "1      9123.0                      15144.18  14.174504  Arizona   \n",
              "2      6236.0                       8356.24  14.150096  Arizona   \n",
              "\n",
              "                Time       Week  NewYear  MLK  Presidents  GoodFriday  \\\n",
              "0  Week End 01-06-19 2019-01-06        1    0           0           0   \n",
              "1  Week End 01-07-18 2018-01-07        1    0           0           0   \n",
              "2  Week End 01-13-19 2019-01-13        0    0           0           0   \n",
              "\n",
              "   Memorial  Independence  Labor  Thanksgiving  Christmas  BookCode  isHoliday  \n",
              "0         0             0      0             0          0     22722          1  \n",
              "1         0             0      0             0          0     22722          1  \n",
              "2         0             0      0             0          0     22722          0  "
            ]
          },
          "execution_count": 164,
          "metadata": {},
          "output_type": "execute_result"
        }
      ],
      "source": [
        "sales_train.head(3)"
      ],
      "id": "vSYYb5n13sT-"
    },
    {
      "cell_type": "code",
      "execution_count": null,
      "metadata": {
        "id": "TeT2gLci3sT-",
        "outputId": "4521518b-b2d9-4fa7-91f2-51daca4cbec1"
      },
      "outputs": [
        {
          "data": {
            "text/html": [
              "<div>\n",
              "<style scoped>\n",
              "    .dataframe tbody tr th:only-of-type {\n",
              "        vertical-align: middle;\n",
              "    }\n",
              "\n",
              "    .dataframe tbody tr th {\n",
              "        vertical-align: top;\n",
              "    }\n",
              "\n",
              "    .dataframe thead th {\n",
              "        text-align: right;\n",
              "    }\n",
              "</style>\n",
              "<table border=\"1\" class=\"dataframe\">\n",
              "  <thead>\n",
              "    <tr style=\"text-align: right;\">\n",
              "      <th></th>\n",
              "      <th>Available Books in the shelf</th>\n",
              "      <th>Price</th>\n",
              "      <th>State</th>\n",
              "      <th>Time</th>\n",
              "      <th>Week</th>\n",
              "      <th>NewYear</th>\n",
              "      <th>MLK</th>\n",
              "      <th>Presidents</th>\n",
              "      <th>GoodFriday</th>\n",
              "      <th>Memorial</th>\n",
              "      <th>Independence</th>\n",
              "      <th>Labor</th>\n",
              "      <th>Thanksgiving</th>\n",
              "      <th>Christmas</th>\n",
              "      <th>BookCode</th>\n",
              "      <th>isHoliday</th>\n",
              "    </tr>\n",
              "  </thead>\n",
              "  <tbody>\n",
              "    <tr>\n",
              "      <th>0</th>\n",
              "      <td>5123.0</td>\n",
              "      <td>14.106784</td>\n",
              "      <td>Arizona</td>\n",
              "      <td>Week End 11-03-19</td>\n",
              "      <td>2019-11-03</td>\n",
              "      <td>0</td>\n",
              "      <td>0</td>\n",
              "      <td>0</td>\n",
              "      <td>0</td>\n",
              "      <td>0</td>\n",
              "      <td>0</td>\n",
              "      <td>0</td>\n",
              "      <td>0</td>\n",
              "      <td>0</td>\n",
              "      <td>22722</td>\n",
              "      <td>0</td>\n",
              "    </tr>\n",
              "    <tr>\n",
              "      <th>1</th>\n",
              "      <td>10064.0</td>\n",
              "      <td>13.935992</td>\n",
              "      <td>Arizona</td>\n",
              "      <td>Week End 11-10-19</td>\n",
              "      <td>2019-11-10</td>\n",
              "      <td>0</td>\n",
              "      <td>0</td>\n",
              "      <td>0</td>\n",
              "      <td>0</td>\n",
              "      <td>0</td>\n",
              "      <td>0</td>\n",
              "      <td>0</td>\n",
              "      <td>0</td>\n",
              "      <td>0</td>\n",
              "      <td>22722</td>\n",
              "      <td>0</td>\n",
              "    </tr>\n",
              "    <tr>\n",
              "      <th>2</th>\n",
              "      <td>8299.0</td>\n",
              "      <td>13.792752</td>\n",
              "      <td>Arizona</td>\n",
              "      <td>Week End 11-17-19</td>\n",
              "      <td>2019-11-17</td>\n",
              "      <td>0</td>\n",
              "      <td>0</td>\n",
              "      <td>0</td>\n",
              "      <td>0</td>\n",
              "      <td>0</td>\n",
              "      <td>0</td>\n",
              "      <td>0</td>\n",
              "      <td>0</td>\n",
              "      <td>0</td>\n",
              "      <td>22722</td>\n",
              "      <td>0</td>\n",
              "    </tr>\n",
              "  </tbody>\n",
              "</table>\n",
              "</div>"
            ],
            "text/plain": [
              "   Available Books in the shelf      Price    State               Time  \\\n",
              "0                        5123.0  14.106784  Arizona  Week End 11-03-19   \n",
              "1                       10064.0  13.935992  Arizona  Week End 11-10-19   \n",
              "2                        8299.0  13.792752  Arizona  Week End 11-17-19   \n",
              "\n",
              "        Week  NewYear  MLK  Presidents  GoodFriday  Memorial  Independence  \\\n",
              "0 2019-11-03        0    0           0           0         0             0   \n",
              "1 2019-11-10        0    0           0           0         0             0   \n",
              "2 2019-11-17        0    0           0           0         0             0   \n",
              "\n",
              "   Labor  Thanksgiving  Christmas  BookCode  isHoliday  \n",
              "0      0             0          0     22722          0  \n",
              "1      0             0          0     22722          0  \n",
              "2      0             0          0     22722          0  "
            ]
          },
          "execution_count": 165,
          "metadata": {},
          "output_type": "execute_result"
        }
      ],
      "source": [
        "sales_test.head(3)"
      ],
      "id": "TeT2gLci3sT-"
    },
    {
      "cell_type": "code",
      "execution_count": null,
      "metadata": {
        "id": "czoArBoE3sT_"
      },
      "outputs": [],
      "source": [
        "#Filtering for the books\n",
        "books=['84987','22979','22720','22722']\n",
        "sales_temp_train=sales_train[sales_train['BookCode'].isin(books)]\n",
        "sales_temp_test=sales_test[sales_test['BookCode'].isin(books)]"
      ],
      "id": "czoArBoE3sT_"
    },
    {
      "cell_type": "code",
      "execution_count": null,
      "metadata": {
        "collapsed": true,
        "id": "U4ERoUxv3sT_",
        "outputId": "4dccec05-1d5a-4239-860a-5f91cd193149"
      },
      "outputs": [
        {
          "name": "stderr",
          "output_type": "stream",
          "text": [
            "C:\\Users\\raghulraj.m\\AppData\\Local\\Continuum\\anaconda3\\envs\\csk\\lib\\site-packages\\ipykernel_launcher.py:2: SettingWithCopyWarning: \n",
            "A value is trying to be set on a copy of a slice from a DataFrame\n",
            "\n",
            "See the caveats in the documentation: http://pandas.pydata.org/pandas-docs/stable/user_guide/indexing.html#returning-a-view-versus-a-copy\n",
            "  \n",
            "C:\\Users\\raghulraj.m\\AppData\\Local\\Continuum\\anaconda3\\envs\\csk\\lib\\site-packages\\ipykernel_launcher.py:5: SettingWithCopyWarning: \n",
            "A value is trying to be set on a copy of a slice from a DataFrame\n",
            "\n",
            "See the caveats in the documentation: http://pandas.pydata.org/pandas-docs/stable/user_guide/indexing.html#returning-a-view-versus-a-copy\n",
            "  \"\"\"\n"
          ]
        }
      ],
      "source": [
        "#Filtering for one combo of the book code and state to run model\n",
        "sales_temp1_train=sales_temp_train[(sales_temp_train['State']=='Arizona') &(sales_temp_train['BookCode']==22722)]\n",
        "sales_temp1_train.sort_values(['Week'],inplace=True)\n",
        "\n",
        "sales_temp1_test=sales_temp_test[(sales_temp_test['State']=='Arizona') &(sales_temp_test['BookCode']==22722)]\n",
        "sales_temp1_test.sort_values(['Week'],inplace=True)"
      ],
      "id": "U4ERoUxv3sT_"
    },
    {
      "cell_type": "markdown",
      "metadata": {
        "id": "u-uBd-XM3sT_"
      },
      "source": [
        "#### Stationary Test - Dickey Fuller"
      ],
      "id": "u-uBd-XM3sT_"
    },
    {
      "cell_type": "markdown",
      "metadata": {
        "id": "tqPomjFS3sT_"
      },
      "source": [
        "We compared the ‘Test Statistic’ and the ‘Critical Value’ to check for the stationarity of the time series"
      ],
      "id": "tqPomjFS3sT_"
    },
    {
      "cell_type": "code",
      "execution_count": null,
      "metadata": {
        "id": "0SSgxv6M3sT_"
      },
      "outputs": [],
      "source": [
        "from statsmodels.tsa.stattools import adfuller\n",
        "def test_stationarity(timeseries,week):\n",
        "\n",
        "    #Determing rolling statistics\n",
        "    rolmean = timeseries.rolling( window=12).mean()\n",
        "    rolstd = timeseries.rolling( window=12).std()\n",
        "\n",
        "    #Plot rolling statistics:\n",
        "    fig = plt.figure(figsize=(12, 8))\n",
        "    orig = plt.plot(week,timeseries, color='blue',label='Original')\n",
        "    mean = plt.plot(week,rolmean, color='red', label='Rolling Mean')\n",
        "    std = plt.plot(week,rolstd, color='black', label = 'Rolling Std')\n",
        "    plt.title('Rolling Mean & Standard Deviation')\n",
        "    plt.show()\n",
        "\n",
        "    #Perform Dickey-Fuller test:\n",
        "    print('Results of Dickey-Fuller Test:')\n",
        "    dftest = adfuller(timeseries, autolag='AIC')\n",
        "    dfoutput = pd.Series(dftest[0:4], index=['Test Statistic','p-value','#Lags Used','Number of Observations Used'])\n",
        "    for key,value in dftest[4].items():\n",
        "        dfoutput['Critical Value (%s)'%key] = value\n",
        "    print(dfoutput)\n"
      ],
      "id": "0SSgxv6M3sT_"
    },
    {
      "cell_type": "code",
      "execution_count": null,
      "metadata": {
        "collapsed": true,
        "id": "mUXHRJSS3sUA",
        "outputId": "ba49ead0-18f8-4a3a-ea94-5ac706551a04"
      },
      "outputs": [
        {
          "name": "stderr",
          "output_type": "stream",
          "text": [
            "C:\\Users\\raghulraj.m\\AppData\\Local\\Continuum\\anaconda3\\envs\\csk\\lib\\site-packages\\pandas\\plotting\\_matplotlib\\converter.py:103: FutureWarning: Using an implicitly registered datetime converter for a matplotlib plotting method. The converter was registered by pandas on import. Future versions of pandas will require you to explicitly register matplotlib converters.\n",
            "\n",
            "To register the converters:\n",
            "\t>>> from pandas.plotting import register_matplotlib_converters\n",
            "\t>>> register_matplotlib_converters()\n",
            "  warnings.warn(msg, FutureWarning)\n"
          ]
        },
        {
          "data": {
            "image/png": "[encoded data removed]",
            "text/plain": [
              "<Figure size 864x576 with 1 Axes>"
            ]
          },
          "metadata": {
            "needs_background": "light"
          },
          "output_type": "display_data"
        },
        {
          "name": "stdout",
          "output_type": "stream",
          "text": [
            "Results of Dickey-Fuller Test:\n",
            "Test Statistic                  -3.433703\n",
            "p-value                          0.009862\n",
            "#Lags Used                      13.000000\n",
            "Number of Observations Used    107.000000\n",
            "Critical Value (1%)             -3.492996\n",
            "Critical Value (5%)             -2.888955\n",
            "Critical Value (10%)            -2.581393\n",
            "dtype: float64\n"
          ]
        }
      ],
      "source": [
        "test_stationarity(sales_temp1_train['Units Sold'],sales_temp1_train['Week'])"
      ],
      "id": "mUXHRJSS3sUA"
    },
    {
      "cell_type": "markdown",
      "metadata": {
        "id": "248z_Cb03sUA"
      },
      "source": [
        "#### Seasonal decompose"
      ],
      "id": "248z_Cb03sUA"
    },
    {
      "cell_type": "markdown",
      "metadata": {
        "id": "ukOvmvXb3sUA"
      },
      "source": [
        "We leveraged the Seasonal Decompose package to inspect the time series components such as Trend, Seasonality and Residuals"
      ],
      "id": "ukOvmvXb3sUA"
    },
    {
      "cell_type": "code",
      "execution_count": null,
      "metadata": {
        "id": "skRaRpdG3sUA",
        "outputId": "1573dcd2-8455-4271-b211-658fb0f6153e"
      },
      "outputs": [
        {
          "name": "stderr",
          "output_type": "stream",
          "text": [
            "C:\\Users\\raghulraj.m\\AppData\\Local\\Continuum\\anaconda3\\envs\\csk\\lib\\site-packages\\ipykernel_launcher.py:3: FutureWarning: the 'freq' keyword is deprecated, use 'period' instead\n",
            "  This is separate from the ipykernel package so we can avoid doing imports until\n"
          ]
        },
        {
          "data": {
            "text/plain": [
              "<Figure size 432x288 with 0 Axes>"
            ]
          },
          "metadata": {},
          "output_type": "display_data"
        },
        {
          "data": {
            "image/png": "[encoded data removed]",
            "text/plain": [
              "<Figure size 1080x576 with 4 Axes>"
            ]
          },
          "metadata": {
            "needs_background": "light"
          },
          "output_type": "display_data"
        }
      ],
      "source": [
        "sales_temp1_train.index=sales_temp1_train['Week']\n",
        "\n",
        "decomposition = seasonal_decompose(sales_temp1_train['Units Sold'], freq=12)\n",
        "fig = plt.figure()\n",
        "fig = decomposition.plot()\n",
        "fig.set_size_inches(15, 8)\n"
      ],
      "id": "skRaRpdG3sUA"
    },
    {
      "cell_type": "code",
      "execution_count": null,
      "metadata": {
        "id": "l7dwMFyw3sUA",
        "outputId": "d24b282f-840a-4617-9268-43d499a8d6ed"
      },
      "outputs": [
        {
          "data": {
            "image/png": "[encoded data removed]",
            "text/plain": [
              "<Figure size 432x288 with 1 Axes>"
            ]
          },
          "metadata": {
            "needs_background": "light"
          },
          "output_type": "display_data"
        }
      ],
      "source": [
        "#ACF plots\n",
        "from statsmodels.graphics.tsaplots import plot_acf\n",
        "plot_acf(sales_temp1_train['Units Sold'])\n",
        "plt.show()"
      ],
      "id": "l7dwMFyw3sUA"
    },
    {
      "cell_type": "code",
      "execution_count": null,
      "metadata": {
        "id": "ExY_ad9L3sUA",
        "outputId": "28b0b58a-93ca-45a2-e21e-a553e9ed7a0d"
      },
      "outputs": [
        {
          "data": {
            "image/png": "[encoded data removed]",
            "text/plain": [
              "<Figure size 432x288 with 1 Axes>"
            ]
          },
          "metadata": {
            "needs_background": "light"
          },
          "output_type": "display_data"
        }
      ],
      "source": [
        "from statsmodels.graphics.tsaplots import plot_pacf\n",
        "plot_pacf(sales_temp1_train['Units Sold'], lags=50)\n",
        "plt.show()"
      ],
      "id": "ExY_ad9L3sUA"
    },
    {
      "cell_type": "code",
      "execution_count": null,
      "metadata": {
        "collapsed": true,
        "id": "lvJzDzv53sUA",
        "outputId": "0e747a69-3a0a-487a-efc9-e92a6fa3964c"
      },
      "outputs": [
        {
          "name": "stderr",
          "output_type": "stream",
          "text": [
            "C:\\Users\\raghulraj.m\\AppData\\Local\\Continuum\\anaconda3\\envs\\csk\\lib\\site-packages\\statsmodels\\tsa\\base\\tsa_model.py:527: ValueWarning: No frequency information was provided, so inferred frequency W-SUN will be used.\n",
            "  % freq, ValueWarning)\n",
            "C:\\Users\\raghulraj.m\\AppData\\Local\\Continuum\\anaconda3\\envs\\csk\\lib\\site-packages\\statsmodels\\tsa\\base\\tsa_model.py:527: ValueWarning: No frequency information was provided, so inferred frequency W-SUN will be used.\n",
            "  % freq, ValueWarning)\n"
          ]
        },
        {
          "name": "stdout",
          "output_type": "stream",
          "text": [
            "                               SARIMAX Results                                \n",
            "==============================================================================\n",
            "Dep. Variable:             Units Sold   No. Observations:                  121\n",
            "Model:               SARIMAX(0, 1, 0)   Log Likelihood                -869.861\n",
            "Date:                Tue, 16 Mar 2021   AIC                           1765.721\n",
            "Time:                        17:22:03   BIC                           1801.959\n",
            "Sample:                    07-09-2017   HQIC                          1780.437\n",
            "                         - 10-27-2019                                         \n",
            "Covariance Type:                  opg                                         \n",
            "================================================================================================\n",
            "                                   coef    std err          z      P>|z|      [0.025      0.975]\n",
            "------------------------------------------------------------------------------------------------\n",
            "Available Books in the shelf     0.0425      0.029      1.462      0.144      -0.014       0.100\n",
            "BookCode                     -6.742e-10        nan        nan        nan         nan         nan\n",
            "Christmas                      141.2609    133.821      1.056      0.291    -121.023     403.545\n",
            "GoodFriday                     -10.3359    244.249     -0.042      0.966    -489.055     468.384\n",
            "Independence                   135.5686    888.688      0.153      0.879   -1606.228    1877.365\n",
            "Labor                          154.0691    340.561      0.452      0.651    -513.418     821.556\n",
            "MLK                           -120.1233    124.601     -0.964      0.335    -364.336     124.090\n",
            "Memorial                      -187.4807    402.698     -0.466      0.642    -976.754     601.793\n",
            "NewYear                        687.3317    167.540      4.102      0.000     358.959    1015.704\n",
            "Presidents                    -118.2303    169.832     -0.696      0.486    -451.096     214.635\n",
            "Price                         -386.1723     93.947     -4.111      0.000    -570.305    -202.039\n",
            "Thanksgiving                  -226.0009    786.590     -0.287      0.774   -1767.689    1315.687\n",
            "sigma2                        1.158e+05   1.25e+04      9.293      0.000    9.14e+04     1.4e+05\n",
            "===================================================================================\n",
            "Ljung-Box (L1) (Q):                   3.31   Jarque-Bera (JB):                38.42\n",
            "Prob(Q):                              0.07   Prob(JB):                         0.00\n",
            "Heteroskedasticity (H):               0.51   Skew:                             0.72\n",
            "Prob(H) (two-sided):                  0.04   Kurtosis:                         5.37\n",
            "===================================================================================\n",
            "\n",
            "Warnings:\n",
            "[1] Covariance matrix calculated using the outer product of gradients (complex-step).\n",
            "[2] Covariance matrix is singular or near-singular, with condition number 3.02e+21. Standard errors may be unstable.\n"
          ]
        }
      ],
      "source": [
        "mod = SARIMAX(endog=sales_temp1_train['Units Sold'],exog=sales_temp1_train[sales_temp1_train.columns.difference(['Units Sold','Time','Week','State','diff'])], order=(0,1,0))\n",
        "res = mod.fit(disp=False)\n",
        "print(res.summary())"
      ],
      "id": "lvJzDzv53sUA"
    },
    {
      "cell_type": "markdown",
      "metadata": {
        "id": "hSO8VoKe3sUA"
      },
      "source": [
        "### Automating the Whole process-Using pmdarima which automatically detects the order(AR,MA coefficients) and the seasonality order if present"
      ],
      "id": "hSO8VoKe3sUA"
    },
    {
      "cell_type": "markdown",
      "metadata": {
        "id": "w95x40sv3sUA"
      },
      "source": [
        "#### Running for the train test split to check the performance of our model by validating with AIC and BIC scores. Filtering for individual bookcodes and states and running with all possible combinations of exogenous variables ('Available Books in the shelf', 'Price' and 'isHoliday') and without any exogenous variable"
      ],
      "id": "w95x40sv3sUA"
    },
    {
      "cell_type": "code",
      "execution_count": null,
      "metadata": {
        "id": "wtYZ8eFT3sUA"
      },
      "outputs": [],
      "source": [
        "import warnings\n",
        "import itertools\n",
        "warnings.filterwarnings('ignore')\n",
        "def train_test_split_fit(data,bookcode,states):\n",
        "    mock=data.copy()\n",
        "    for i in bookcode:\n",
        "        for j in states:\n",
        "            mock=data[(data['State']==j) &(data['BookCode']==i)]\n",
        "            if len(mock)==0:\n",
        "                continue\n",
        "            print(f'Running for State:{j} and Bookcode:{i}')\n",
        "            # Load/split your data\n",
        "            y = mock['Units Sold'].reset_index(drop=True)\n",
        "            train, test = train_test_split(y, train_size=0.8)\n",
        "            for cols in list(itertools.chain(*map(lambda x: itertools.combinations(\n",
        "                ['Available Books in the shelf', 'Price', 'isHoliday'], x), range(0, 4)))):\n",
        "                if not cols:\n",
        "                    print('Without exogenous')\n",
        "                    # Fit model\n",
        "                    model = pm.auto_arima(train, seasonal=True, m=52)\n",
        "\n",
        "                    # make forecasts\n",
        "                    forecasts = model.predict(test.shape[0])  # predict N steps into the future\n",
        "\n",
        "                else:\n",
        "                    print(f'With exogenous columns {cols}')\n",
        "\n",
        "                    # Fit model\n",
        "                    model = pm.auto_arima(train, seasonal=True, m=52, exogenous=sales_temp1_train[list(cols)].reset_index(drop=True)[:len(train)])\n",
        "\n",
        "                    # make forecasts\n",
        "                    forecasts = model.predict(test.shape[0],exogenous=sales_temp1_train[list(cols)].reset_index(drop=True)[len(train):])  # predict N steps into the future\n",
        "                print(f'AIC:{model.aic()},BIC:{model.bic()}')"
      ],
      "id": "wtYZ8eFT3sUA"
    },
    {
      "cell_type": "code",
      "execution_count": null,
      "metadata": {
        "id": "TQLPa59a3sUA"
      },
      "outputs": [],
      "source": [
        "train_test_split_fit(sales_train,books,sales_train.State.unique())"
      ],
      "id": "TQLPa59a3sUA"
    },
    {
      "cell_type": "markdown",
      "metadata": {
        "id": "vnVmGPJu3sUA"
      },
      "source": [
        "#### From the above step we observed that the AIC and BIC values were minimal for models considering exogenous variable as 'isHoliday',"
      ],
      "id": "vnVmGPJu3sUA"
    },
    {
      "cell_type": "code",
      "execution_count": null,
      "metadata": {
        "id": "0L13Jz2w3sUA"
      },
      "outputs": [],
      "source": [
        "def prediction(train_data, test_data, bookcode, states):\n",
        "    mock_train=train_data.copy()\n",
        "    mock_test=test_data.copy()\n",
        "    for i in bookcode:\n",
        "        for j in states:\n",
        "            mock_train=train_data[(train_data['State']==j) &(train_data['BookCode']==i)]\n",
        "            mock_test=test_data[(test_data['State']==j) &(test_data['BookCode']==i)]\n",
        "            if len(mock_test)==0:\n",
        "                continue\n",
        "\n",
        "            # Fit the model\n",
        "            model = pm.auto_arima(mock_train['Units Sold'], seasonal=True, m=52, exogenous=mock_train[['isHoliday']].reset_index(drop=True))\n",
        "\n",
        "            # make forecasts\n",
        "            forecasts = model.predict(mock_test.shape[0],exogenous=mock_test[['isHoliday']].reset_index(drop=True))  # predict N steps into the future\n",
        "            test_data.loc[(test_data['State']==j) &(test_data['BookCode']==i),'Units Sold']=forecasts\n",
        "    return (test_data)\n",
        ""
      ],
      "id": "0L13Jz2w3sUA"
    },
    {
      "cell_type": "code",
      "execution_count": null,
      "metadata": {
        "id": "6Qg2EbVP3sUE"
      },
      "outputs": [],
      "source": [
        "out=predict(sales_train,sales_test,books,sales_train.State.unique())"
      ],
      "id": "6Qg2EbVP3sUE"
    },
    {
      "cell_type": "code",
      "execution_count": null,
      "metadata": {
        "id": "bjiv0uEB3sUE"
      },
      "outputs": [],
      "source": [
        "out[['State','Week','BookCode','Units Sold']].to_csv('Output.csv',index=False)"
      ],
      "id": "bjiv0uEB3sUE"
    },
    {
      "cell_type": "markdown",
      "metadata": {
        "id": "dgo1RcmF3sUE"
      },
      "source": [
        "### 3. XYZ also wants Bridgei2i to determine the profile of customers who have given the most positive reviews"
      ],
      "id": "dgo1RcmF3sUE"
    },
    {
      "cell_type": "code",
      "execution_count": null,
      "metadata": {
        "id": "D0AttXVr3sUE"
      },
      "outputs": [],
      "source": [
        "customer_data = pd.read_excel(\"Customer_v2.xlsx\")"
      ],
      "id": "D0AttXVr3sUE"
    },
    {
      "cell_type": "code",
      "execution_count": null,
      "metadata": {
        "id": "CGE83uKu3sUE",
        "outputId": "ca08bbe2-b7e2-42df-b2af-7b374f9a9c1a"
      },
      "outputs": [
        {
          "data": {
            "text/html": [
              "<div>\n",
              "<style scoped>\n",
              "    .dataframe tbody tr th:only-of-type {\n",
              "        vertical-align: middle;\n",
              "    }\n",
              "\n",
              "    .dataframe tbody tr th {\n",
              "        vertical-align: top;\n",
              "    }\n",
              "\n",
              "    .dataframe thead th {\n",
              "        text-align: right;\n",
              "    }\n",
              "</style>\n",
              "<table border=\"1\" class=\"dataframe\">\n",
              "  <thead>\n",
              "    <tr style=\"text-align: right;\">\n",
              "      <th></th>\n",
              "      <th>CustomerID</th>\n",
              "      <th>BookCode</th>\n",
              "      <th>Age</th>\n",
              "    </tr>\n",
              "  </thead>\n",
              "  <tbody>\n",
              "    <tr>\n",
              "      <th>0</th>\n",
              "      <td>17850</td>\n",
              "      <td>32722</td>\n",
              "      <td>19</td>\n",
              "    </tr>\n",
              "    <tr>\n",
              "      <th>1</th>\n",
              "      <td>17850</td>\n",
              "      <td>32979</td>\n",
              "      <td>19</td>\n",
              "    </tr>\n",
              "    <tr>\n",
              "      <th>2</th>\n",
              "      <td>17850</td>\n",
              "      <td>94987</td>\n",
              "      <td>19</td>\n",
              "    </tr>\n",
              "    <tr>\n",
              "      <th>3</th>\n",
              "      <td>17850</td>\n",
              "      <td>32720</td>\n",
              "      <td>19</td>\n",
              "    </tr>\n",
              "    <tr>\n",
              "      <th>4</th>\n",
              "      <td>17850</td>\n",
              "      <td>42722</td>\n",
              "      <td>19</td>\n",
              "    </tr>\n",
              "  </tbody>\n",
              "</table>\n",
              "</div>"
            ],
            "text/plain": [
              "   CustomerID BookCode  Age\n",
              "0       17850    32722   19\n",
              "1       17850    32979   19\n",
              "2       17850    94987   19\n",
              "3       17850    32720   19\n",
              "4       17850    42722   19"
            ]
          },
          "execution_count": 4,
          "metadata": {},
          "output_type": "execute_result"
        }
      ],
      "source": [
        "customer_data.head()"
      ],
      "id": "CGE83uKu3sUE"
    },
    {
      "cell_type": "code",
      "execution_count": null,
      "metadata": {
        "id": "KS6IWlKw3sUE",
        "outputId": "1087aea9-4579-4b7f-f16f-1b976b51af21"
      },
      "outputs": [
        {
          "data": {
            "text/plain": [
              "count    1461.000000\n",
              "mean       46.566735\n",
              "std         8.915230\n",
              "min        11.000000\n",
              "25%        40.000000\n",
              "50%        47.000000\n",
              "75%        54.000000\n",
              "max        81.000000\n",
              "Name: Age, dtype: float64"
            ]
          },
          "execution_count": 45,
          "metadata": {},
          "output_type": "execute_result"
        }
      ],
      "source": [
        "customer_data[\"Age\"].describe()"
      ],
      "id": "KS6IWlKw3sUE"
    },
    {
      "cell_type": "code",
      "execution_count": null,
      "metadata": {
        "id": "ECdv8c2c3sUE",
        "outputId": "e2b094bd-4344-4297-f07c-c719a667276a"
      },
      "outputs": [
        {
          "data": {
            "text/plain": [
              "0"
            ]
          },
          "execution_count": 46,
          "metadata": {},
          "output_type": "execute_result"
        }
      ],
      "source": [
        "customer_data[\"Age\"].isnull().sum()"
      ],
      "id": "ECdv8c2c3sUE"
    },
    {
      "cell_type": "markdown",
      "metadata": {
        "id": "-usBGKO63sUE"
      },
      "source": [
        "#### Filtering for top 4 book codes"
      ],
      "id": "-usBGKO63sUE"
    },
    {
      "cell_type": "code",
      "execution_count": null,
      "metadata": {
        "id": "wR-yu1u63sUE"
      },
      "outputs": [],
      "source": [
        "book_codes=['84987','22979','22720','22722']"
      ],
      "id": "wR-yu1u63sUE"
    },
    {
      "cell_type": "code",
      "execution_count": null,
      "metadata": {
        "id": "3WLj6ahR3sUF"
      },
      "outputs": [],
      "source": [
        "customer_data = customer_data[customer_data[\"BookCode\"].isin(book_codes)]"
      ],
      "id": "3WLj6ahR3sUF"
    },
    {
      "cell_type": "markdown",
      "metadata": {
        "id": "n2vRD8TB3sUF"
      },
      "source": [
        "#### Initial analysis on data"
      ],
      "id": "n2vRD8TB3sUF"
    },
    {
      "cell_type": "code",
      "execution_count": null,
      "metadata": {
        "id": "3Uva-LXE3sUF",
        "outputId": "0482eadd-7d34-4d5f-fe01-4c1b400a5f67"
      },
      "outputs": [
        {
          "data": {
            "text/plain": [
              "BookCode\n",
              "22720    46.589062\n",
              "22722    46.463104\n",
              "22979    46.293333\n",
              "84987    47.000000\n",
              "Name: Age, dtype: float64"
            ]
          },
          "execution_count": 10,
          "metadata": {},
          "output_type": "execute_result"
        }
      ],
      "source": [
        "customer_data.groupby(\"BookCode\")[\"Age\"].mean()"
      ],
      "id": "3Uva-LXE3sUF"
    },
    {
      "cell_type": "code",
      "execution_count": null,
      "metadata": {
        "id": "ZBP0Mc0G3sUF",
        "outputId": "0acb1ad5-7ae9-43c4-8e4f-2c6f85142025"
      },
      "outputs": [
        {
          "data": {
            "text/plain": [
              "BookCode\n",
              "22720    47\n",
              "22722    47\n",
              "22979    47\n",
              "84987    48\n",
              "Name: Age, dtype: int64"
            ]
          },
          "execution_count": 8,
          "metadata": {},
          "output_type": "execute_result"
        }
      ],
      "source": [
        "customer_data.groupby(\"BookCode\")[\"Age\"].median()"
      ],
      "id": "ZBP0Mc0G3sUF"
    },
    {
      "cell_type": "code",
      "execution_count": null,
      "metadata": {
        "id": "OqD-hZ9e3sUF",
        "outputId": "0404b4e2-87fb-4533-acb9-e2b0cad4e02d"
      },
      "outputs": [
        {
          "data": {
            "text/plain": [
              "(array([  2.,  30.,  20., 219., 394., 366., 368.,  57.,   0.,   5.]),\n",
              " array([11., 18., 25., 32., 39., 46., 53., 60., 67., 74., 81.]),\n",
              " <BarContainer object of 10 artists>)"
            ]
          },
          "execution_count": 14,
          "metadata": {},
          "output_type": "execute_result"
        },
        {
          "data": {
            "image/png": "[encoded data removed]",
            "text/plain": [
              "<Figure size 432x288 with 1 Axes>"
            ]
          },
          "metadata": {
            "needs_background": "light"
          },
          "output_type": "display_data"
        }
      ],
      "source": [
        "plt.hist(customer_data['Age'])"
      ],
      "id": "OqD-hZ9e3sUF"
    },
    {
      "cell_type": "markdown",
      "metadata": {
        "id": "G6N_eoPQ3sUF"
      },
      "source": [
        "#### Trying out Decision Tree for getting age bins for each BookCode"
      ],
      "id": "G6N_eoPQ3sUF"
    },
    {
      "cell_type": "code",
      "execution_count": null,
      "metadata": {
        "id": "Bsm9uTIV3sUF"
      },
      "outputs": [],
      "source": [
        "clf = DecisionTreeClassifier(class_weight='balanced')\n",
        "clf = clf.fit(pd.DataFrame(customer_data['Age']), customer_data['BookCode'])"
      ],
      "id": "Bsm9uTIV3sUF"
    },
    {
      "cell_type": "code",
      "execution_count": null,
      "metadata": {
        "id": "58PBDxqA3sUF",
        "outputId": "63fc0b21-f0fe-4891-f4ff-3c8b1f1f063b"
      },
      "outputs": [
        {
          "name": "stdout",
          "output_type": "stream",
          "text": [
            "|--- feature_0 <= 48.50\n",
            "|   |--- feature_0 <= 43.50\n",
            "|   |   |--- feature_0 <= 32.00\n",
            "|   |   |   |--- feature_0 <= 18.50\n",
            "|   |   |   |   |--- feature_0 <= 14.50\n",
            "|   |   |   |   |   |--- class: 22722\n",
            "|   |   |   |   |--- feature_0 >  14.50\n",
            "|   |   |   |   |   |--- class: 22979\n",
            "|   |   |   |--- feature_0 >  18.50\n",
            "|   |   |   |   |--- feature_0 <= 28.50\n",
            "|   |   |   |   |   |--- feature_0 <= 20.50\n",
            "|   |   |   |   |   |   |--- feature_0 <= 19.50\n",
            "|   |   |   |   |   |   |   |--- class: 22722\n",
            "|   |   |   |   |   |   |--- feature_0 >  19.50\n",
            "|   |   |   |   |   |   |   |--- class: 22722\n",
            "|   |   |   |   |   |--- feature_0 >  20.50\n",
            "|   |   |   |   |   |   |--- feature_0 <= 23.50\n",
            "|   |   |   |   |   |   |   |--- feature_0 <= 22.50\n",
            "|   |   |   |   |   |   |   |   |--- feature_0 <= 21.50\n",
            "|   |   |   |   |   |   |   |   |   |--- class: 84987\n",
            "|   |   |   |   |   |   |   |   |--- feature_0 >  21.50\n",
            "|   |   |   |   |   |   |   |   |   |--- class: 22720\n",
            "|   |   |   |   |   |   |   |--- feature_0 >  22.50\n",
            "|   |   |   |   |   |   |   |   |--- class: 84987\n",
            "|   |   |   |   |   |   |--- feature_0 >  23.50\n",
            "|   |   |   |   |   |   |   |--- feature_0 <= 25.50\n",
            "|   |   |   |   |   |   |   |   |--- feature_0 <= 24.50\n",
            "|   |   |   |   |   |   |   |   |   |--- class: 22720\n",
            "|   |   |   |   |   |   |   |   |--- feature_0 >  24.50\n",
            "|   |   |   |   |   |   |   |   |   |--- class: 22720\n",
            "|   |   |   |   |   |   |   |--- feature_0 >  25.50\n",
            "|   |   |   |   |   |   |   |   |--- feature_0 <= 26.50\n",
            "|   |   |   |   |   |   |   |   |   |--- class: 84987\n",
            "|   |   |   |   |   |   |   |   |--- feature_0 >  26.50\n",
            "|   |   |   |   |   |   |   |   |   |--- feature_0 <= 27.50\n",
            "|   |   |   |   |   |   |   |   |   |   |--- class: 22722\n",
            "|   |   |   |   |   |   |   |   |   |--- feature_0 >  27.50\n",
            "|   |   |   |   |   |   |   |   |   |   |--- class: 84987\n",
            "|   |   |   |   |--- feature_0 >  28.50\n",
            "|   |   |   |   |   |--- class: 22720\n",
            "|   |   |--- feature_0 >  32.00\n",
            "|   |   |   |--- feature_0 <= 38.50\n",
            "|   |   |   |   |--- feature_0 <= 37.50\n",
            "|   |   |   |   |   |--- feature_0 <= 35.50\n",
            "|   |   |   |   |   |   |--- class: 22979\n",
            "|   |   |   |   |   |--- feature_0 >  35.50\n",
            "|   |   |   |   |   |   |--- feature_0 <= 36.50\n",
            "|   |   |   |   |   |   |   |--- class: 22979\n",
            "|   |   |   |   |   |   |--- feature_0 >  36.50\n",
            "|   |   |   |   |   |   |   |--- class: 22979\n",
            "|   |   |   |   |--- feature_0 >  37.50\n",
            "|   |   |   |   |   |--- class: 22722\n",
            "|   |   |   |--- feature_0 >  38.50\n",
            "|   |   |   |   |--- feature_0 <= 39.50\n",
            "|   |   |   |   |   |--- class: 84987\n",
            "|   |   |   |   |--- feature_0 >  39.50\n",
            "|   |   |   |   |   |--- feature_0 <= 40.50\n",
            "|   |   |   |   |   |   |--- class: 22979\n",
            "|   |   |   |   |   |--- feature_0 >  40.50\n",
            "|   |   |   |   |   |   |--- feature_0 <= 41.50\n",
            "|   |   |   |   |   |   |   |--- class: 84987\n",
            "|   |   |   |   |   |   |--- feature_0 >  41.50\n",
            "|   |   |   |   |   |   |   |--- feature_0 <= 42.50\n",
            "|   |   |   |   |   |   |   |   |--- class: 22720\n",
            "|   |   |   |   |   |   |   |--- feature_0 >  42.50\n",
            "|   |   |   |   |   |   |   |   |--- class: 22979\n",
            "|   |--- feature_0 >  43.50\n",
            "|   |   |--- feature_0 <= 47.50\n",
            "|   |   |   |--- feature_0 <= 45.50\n",
            "|   |   |   |   |--- feature_0 <= 44.50\n",
            "|   |   |   |   |   |--- class: 22720\n",
            "|   |   |   |   |--- feature_0 >  44.50\n",
            "|   |   |   |   |   |--- class: 22720\n",
            "|   |   |   |--- feature_0 >  45.50\n",
            "|   |   |   |   |--- feature_0 <= 46.50\n",
            "|   |   |   |   |   |--- class: 22722\n",
            "|   |   |   |   |--- feature_0 >  46.50\n",
            "|   |   |   |   |   |--- class: 22722\n",
            "|   |   |--- feature_0 >  47.50\n",
            "|   |   |   |--- class: 22979\n",
            "|--- feature_0 >  48.50\n",
            "|   |--- feature_0 <= 59.50\n",
            "|   |   |--- feature_0 <= 53.50\n",
            "|   |   |   |--- feature_0 <= 52.50\n",
            "|   |   |   |   |--- feature_0 <= 50.50\n",
            "|   |   |   |   |   |--- feature_0 <= 49.50\n",
            "|   |   |   |   |   |   |--- class: 84987\n",
            "|   |   |   |   |   |--- feature_0 >  49.50\n",
            "|   |   |   |   |   |   |--- class: 84987\n",
            "|   |   |   |   |--- feature_0 >  50.50\n",
            "|   |   |   |   |   |--- feature_0 <= 51.50\n",
            "|   |   |   |   |   |   |--- class: 84987\n",
            "|   |   |   |   |   |--- feature_0 >  51.50\n",
            "|   |   |   |   |   |   |--- class: 84987\n",
            "|   |   |   |--- feature_0 >  52.50\n",
            "|   |   |   |   |--- class: 22720\n",
            "|   |   |--- feature_0 >  53.50\n",
            "|   |   |   |--- feature_0 <= 55.50\n",
            "|   |   |   |   |--- feature_0 <= 54.50\n",
            "|   |   |   |   |   |--- class: 22979\n",
            "|   |   |   |   |--- feature_0 >  54.50\n",
            "|   |   |   |   |   |--- class: 22722\n",
            "|   |   |   |--- feature_0 >  55.50\n",
            "|   |   |   |   |--- feature_0 <= 57.50\n",
            "|   |   |   |   |   |--- feature_0 <= 56.50\n",
            "|   |   |   |   |   |   |--- class: 22979\n",
            "|   |   |   |   |   |--- feature_0 >  56.50\n",
            "|   |   |   |   |   |   |--- class: 22720\n",
            "|   |   |   |   |--- feature_0 >  57.50\n",
            "|   |   |   |   |   |--- feature_0 <= 58.50\n",
            "|   |   |   |   |   |   |--- class: 22979\n",
            "|   |   |   |   |   |--- feature_0 >  58.50\n",
            "|   |   |   |   |   |   |--- class: 22979\n",
            "|   |--- feature_0 >  59.50\n",
            "|   |   |--- feature_0 <= 62.00\n",
            "|   |   |   |--- class: 84987\n",
            "|   |   |--- feature_0 >  62.00\n",
            "|   |   |   |--- feature_0 <= 70.00\n",
            "|   |   |   |   |--- class: 22722\n",
            "|   |   |   |--- feature_0 >  70.00\n",
            "|   |   |   |   |--- feature_0 <= 78.50\n",
            "|   |   |   |   |   |--- class: 22979\n",
            "|   |   |   |   |--- feature_0 >  78.50\n",
            "|   |   |   |   |   |--- class: 22722\n",
            "\n"
          ]
        }
      ],
      "source": [
        "r = export_text(clf)\n",
        "print(r)"
      ],
      "id": "58PBDxqA3sUF"
    },
    {
      "cell_type": "markdown",
      "metadata": {
        "id": "d3MD-bFK3sUF"
      },
      "source": [
        "Since there was only one feature, decision tree didn't yield proper results. Hence, we're going ahead with creating bins manually wrt the distribution of data."
      ],
      "id": "d3MD-bFK3sUF"
    },
    {
      "cell_type": "markdown",
      "metadata": {
        "id": "8aOjh8cT3sUF"
      },
      "source": [
        "#### Manual Binning"
      ],
      "id": "8aOjh8cT3sUF"
    },
    {
      "cell_type": "code",
      "execution_count": null,
      "metadata": {
        "id": "h32PvPaG3sUF"
      },
      "outputs": [],
      "source": [
        "customer_data[\"Decile_binning\"] = pd.cut(customer_data[\"Age\"],10)"
      ],
      "id": "h32PvPaG3sUF"
    },
    {
      "cell_type": "code",
      "execution_count": null,
      "metadata": {
        "scrolled": true,
        "id": "agXdm0NW3sUF",
        "outputId": "b4d048be-676f-41ab-fc2f-3f94c71926da"
      },
      "outputs": [
        {
          "name": "stdout",
          "output_type": "stream",
          "text": [
            "BOOK CODE: 84987\n",
            "Decile_binning\n",
            "(10.93, 18.0]     0\n",
            "(18.0, 25.0]      4\n",
            "(25.0, 32.0]      2\n",
            "(32.0, 39.0]     38\n",
            "(39.0, 46.0]     50\n",
            "(46.0, 53.0]     51\n",
            "(53.0, 60.0]     58\n",
            "(60.0, 67.0]      0\n",
            "(67.0, 74.0]      0\n",
            "(74.0, 81.0]      0\n",
            "Name: BookCode, dtype: int64\n",
            "BOOK CODE: 22979\n",
            "Decile_binning\n",
            "(10.93, 18.0]     2\n",
            "(18.0, 25.0]      1\n",
            "(25.0, 32.0]      2\n",
            "(32.0, 39.0]     51\n",
            "(39.0, 46.0]     56\n",
            "(46.0, 53.0]     53\n",
            "(53.0, 60.0]     59\n",
            "(60.0, 67.0]      0\n",
            "(67.0, 74.0]      0\n",
            "(74.0, 81.0]      1\n",
            "Name: BookCode, dtype: int64\n",
            "BOOK CODE: 22720\n",
            "Decile_binning\n",
            "(10.93, 18.0]      3\n",
            "(18.0, 25.0]      13\n",
            "(25.0, 32.0]       8\n",
            "(32.0, 39.0]     119\n",
            "(39.0, 46.0]     174\n",
            "(46.0, 53.0]     159\n",
            "(53.0, 60.0]     161\n",
            "(60.0, 67.0]       1\n",
            "(67.0, 74.0]       0\n",
            "(74.0, 81.0]       2\n",
            "Name: BookCode, dtype: int64\n",
            "BOOK CODE: 22722\n",
            "Decile_binning\n",
            "(10.93, 18.0]      4\n",
            "(18.0, 25.0]       8\n",
            "(25.0, 32.0]       5\n",
            "(32.0, 39.0]      70\n",
            "(39.0, 46.0]     103\n",
            "(46.0, 53.0]     100\n",
            "(53.0, 60.0]     100\n",
            "(60.0, 67.0]       1\n",
            "(67.0, 74.0]       0\n",
            "(74.0, 81.0]       2\n",
            "Name: BookCode, dtype: int64\n"
          ]
        }
      ],
      "source": [
        "for book_code in book_codes:\n",
        "    temp_data = customer_data[customer_data[\"BookCode\"]==book_code]\n",
        "    print(\"BOOK CODE:\",book_code)\n",
        "    print(temp_data.groupby([\"Decile_binning\"])[\"BookCode\"].count())"
      ],
      "id": "agXdm0NW3sUF"
    },
    {
      "cell_type": "markdown",
      "metadata": {
        "id": "0hFjiLwF3sUF"
      },
      "source": [
        "#### Using 3 Bins"
      ],
      "id": "0hFjiLwF3sUF"
    },
    {
      "cell_type": "code",
      "execution_count": null,
      "metadata": {
        "id": "ycbH-dpE3sUF"
      },
      "outputs": [],
      "source": [
        "customer_data[\"Three_cut_binning\"] = pd.cut(customer_data[\"Age\"],3)"
      ],
      "id": "ycbH-dpE3sUF"
    },
    {
      "cell_type": "code",
      "execution_count": null,
      "metadata": {
        "id": "PR2p3OUe3sUF",
        "outputId": "aab0b7c6-6df6-4cfd-8d42-06d1240f51e2"
      },
      "outputs": [
        {
          "name": "stdout",
          "output_type": "stream",
          "text": [
            "BOOK CODE: 84987\n",
            "Three_cut_binning\n",
            "(10.93, 34.333]       6\n",
            "(34.333, 57.667]    170\n",
            "(57.667, 81.0]       27\n",
            "Name: BookCode, dtype: int64\n",
            "BOOK CODE: 22979\n",
            "Three_cut_binning\n",
            "(10.93, 34.333]       5\n",
            "(34.333, 57.667]    195\n",
            "(57.667, 81.0]       25\n",
            "Name: BookCode, dtype: int64\n",
            "BOOK CODE: 22720\n",
            "Three_cut_binning\n",
            "(10.93, 34.333]      24\n",
            "(34.333, 57.667]    543\n",
            "(57.667, 81.0]       73\n",
            "Name: BookCode, dtype: int64\n",
            "BOOK CODE: 22722\n",
            "Three_cut_binning\n",
            "(10.93, 34.333]      17\n",
            "(34.333, 57.667]    337\n",
            "(57.667, 81.0]       39\n",
            "Name: BookCode, dtype: int64\n"
          ]
        }
      ],
      "source": [
        "for book_code in book_codes:\n",
        "    temp_data = customer_data[customer_data[\"BookCode\"]==book_code]\n",
        "    print(\"BOOK CODE:\",book_code)\n",
        "    print(temp_data.groupby([\"Three_cut_binning\"])[\"BookCode\"].count())\n",
        "#     print(temp_data[\"Age\"].describe())"
      ],
      "id": "PR2p3OUe3sUF"
    },
    {
      "cell_type": "code",
      "execution_count": null,
      "metadata": {
        "id": "rj4egeAc3sUG"
      },
      "outputs": [],
      "source": [
        "most_customers_bin = customer_data[(customer_data[\"Age\"]>34.333)&(customer_data[\"Age\"]<=57.667)]"
      ],
      "id": "rj4egeAc3sUG"
    },
    {
      "cell_type": "code",
      "execution_count": null,
      "metadata": {
        "scrolled": true,
        "id": "s9K0zVAL3sUG",
        "outputId": "9ad2d8fe-50ce-4729-cdcd-6663b910fda5"
      },
      "outputs": [
        {
          "name": "stdout",
          "output_type": "stream",
          "text": [
            "BOOK CODE: 84987\n",
            "Sub_category_bin\n",
            "(34.978, 42.333]    0.382353\n",
            "(42.333, 49.667]    0.252941\n",
            "(49.667, 57.0]      0.364706\n",
            "Name: BookCode, dtype: float64\n",
            "BOOK CODE: 22979\n",
            "Sub_category_bin\n",
            "(34.978, 42.333]    0.394872\n",
            "(42.333, 49.667]    0.307692\n",
            "(49.667, 57.0]      0.297436\n",
            "Name: BookCode, dtype: float64\n",
            "BOOK CODE: 22720\n",
            "Sub_category_bin\n",
            "(34.978, 42.333]    0.351750\n",
            "(42.333, 49.667]    0.307551\n",
            "(49.667, 57.0]      0.340700\n",
            "Name: BookCode, dtype: float64\n",
            "BOOK CODE: 22722\n",
            "Sub_category_bin\n",
            "(34.978, 42.333]    0.332344\n",
            "(42.333, 49.667]    0.323442\n",
            "(49.667, 57.0]      0.344214\n",
            "Name: BookCode, dtype: float64\n"
          ]
        },
        {
          "name": "stderr",
          "output_type": "stream",
          "text": [
            "/home/ishwarya/anaconda3/lib/python3.7/site-packages/ipykernel_launcher.py:3: SettingWithCopyWarning: \n",
            "A value is trying to be set on a copy of a slice from a DataFrame.\n",
            "Try using .loc[row_indexer,col_indexer] = value instead\n",
            "\n",
            "See the caveats in the documentation: https://pandas.pydata.org/pandas-docs/stable/user_guide/indexing.html#returning-a-view-versus-a-copy\n",
            "  This is separate from the ipykernel package so we can avoid doing imports until\n"
          ]
        }
      ],
      "source": [
        "for book_code in book_codes:\n",
        "    temp_data = most_customers_bin[most_customers_bin[\"BookCode\"]==book_code]\n",
        "    temp_data[\"Sub_category_bin\"] = pd.cut(temp_data[\"Age\"],3)\n",
        "    print(\"BOOK CODE:\",book_code)\n",
        "    book_code_value_count = pd.DataFrame(temp_data[\"BookCode\"].value_counts())\n",
        "    print(temp_data.groupby([\"Sub_category_bin\"])[\"BookCode\"].count()/temp_data[\"CustomerID\"].nunique())\n",
        "#     print(temp_data[\"Age\"].describe())"
      ],
      "id": "s9K0zVAL3sUG"
    }
  ],
  "metadata": {
    "kernelspec": {
      "display_name": "Python 3",
      "language": "python",
      "name": "python3"
    },
    "language_info": {
      "codemirror_mode": {
        "name": "ipython",
        "version": 3
      },
      "file_extension": ".py",
      "mimetype": "text/x-python",
      "name": "python",
      "nbconvert_exporter": "python",
      "pygments_lexer": "ipython3",
      "version": "3.7.3"
    },
    "colab": {
      "provenance": [],
      "include_colab_link": true
    }
  },
  "nbformat": 4,
  "nbformat_minor": 5
}